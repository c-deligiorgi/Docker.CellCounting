{
 "cells": [
  {
   "cell_type": "markdown",
   "metadata": {},
   "source": [
    "## Welcome to your <font color='green'>*Model Training Container*</font>\n",
    "\n",
    "   This is a container for the Cell Counting model. Within this container you can __run__ your model, __modify__ your script and __add__ additional scripts.\n",
    "   \n",
    "   \n",
    "   This is what you should see after navigating to the URL in your browser after following the steps on the GitHub [repo](https://github.com/pikachris/Docker.CellCounting/blob/master/README.md).\n",
    " \n",
    "If you see the screen above, you’re successfully developing within the Docker container.\n",
    "   \n",
    "- Steps to run your model of choice\n",
    "\n",
    "    1. Move to the main page and create a new file. Select <font color='blue'>Python 3 </font>. This will open a new kernel on your browser. *Jupyter brings a lightweight interface for kernel languages that can be wrapped in Python. Wrapper kernels can implement optional methods, notably for code completion and code inspection.*\n",
    "    \n",
    "    2. To run your model, please type <font color='green'>**!python** </font> <font color='orange'>**'experiment_name'** </font> <font color='teal'> **'data_dir'** </font> in the kernel.\n",
    "    > The <font color='orange'>**'experiment_name'** </font> can be any given name. This will automatically create a file at the main page with the arguments.txt of your run.\n",
    "    \n",
    "    > The <font color='teal'> **'data_dir'** </font> should be  directory containing images in .png format and with the labels in a gt.csv file. Eg. Data/Healthy_Cells\n",
    "\n",
    " \n",
    " \n",
    " "
   ]
  },
  {
   "cell_type": "code",
   "execution_count": null,
   "metadata": {},
   "outputs": [],
   "source": [
    "!python train3.py test Data/healthy\n"
   ]
  }
 ],
 "metadata": {
  "kernelspec": {
   "display_name": "Python 3",
   "language": "python",
   "name": "python3"
  },
  "language_info": {
   "codemirror_mode": {
    "name": "ipython",
    "version": 3
   },
   "file_extension": ".py",
   "mimetype": "text/x-python",
   "name": "python",
   "nbconvert_exporter": "python",
   "pygments_lexer": "ipython3",
   "version": "3.6.11"
  }
 },
 "nbformat": 4,
 "nbformat_minor": 4
}